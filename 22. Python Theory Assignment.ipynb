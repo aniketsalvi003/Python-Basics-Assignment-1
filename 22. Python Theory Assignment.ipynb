{
 "cells": [
  {
   "cell_type": "markdown",
   "metadata": {},
   "source": [
    "# 22. Python Theory Assignment"
   ]
  },
  {
   "cell_type": "raw",
   "metadata": {},
   "source": [
    "1. What is the result of the code, and explain?\n",
    "\n",
    ">>> X = 'iNeuron'\n",
    ">>> def func():\n",
    "        print(X)\n",
    ">>> func()"
   ]
  },
  {
   "cell_type": "raw",
   "metadata": {},
   "source": [
    "Answer : func() will be called to print value of X, value off X is iNeuron so output will be iNeuron."
   ]
  },
  {
   "cell_type": "raw",
   "metadata": {},
   "source": [
    "2. What is the result of the code, and explain?\n",
    "\n",
    ">>> X = 'iNeuron'\n",
    ">>> def func():\n",
    "X = 'NI!'\n",
    "\n",
    ">>> func()\n",
    ">>> print(X)"
   ]
  },
  {
   "cell_type": "raw",
   "metadata": {},
   "source": [
    "Answer : When func() is called it will assign value of X to NI!, here  X is a local variable. While print(X) will print give output as iNeuron, as it is global variable."
   ]
  },
  {
   "cell_type": "raw",
   "metadata": {},
   "source": [
    "3. What does this code print, and why?\n",
    "\n",
    ">>> X = 'iNeuron'\n",
    ">>> def func():\n",
    "X = 'NI'\n",
    "print(X)\n",
    "\n",
    ">>> func()\n",
    ">>> print(X)"
   ]
  },
  {
   "cell_type": "raw",
   "metadata": {},
   "source": [
    "func() will print X value as NI that is the local value. print(X) out of func() will print iNeuron, which is global variable."
   ]
  },
  {
   "cell_type": "raw",
   "metadata": {},
   "source": [
    "4. What output does this code produce? Why?\n",
    "\n",
    ">>> X = 'iNeuron'\n",
    ">>> def func():\n",
    "global X\n",
    "X = 'NI'\n",
    "\n",
    ">>> func()\n",
    ">>> print(X)\n"
   ]
  },
  {
   "cell_type": "raw",
   "metadata": {},
   "source": [
    "Answer : print(X) will print value NI as func() is called earlier where global variable X is changed from iNeuron to NI"
   ]
  },
  {
   "cell_type": "raw",
   "metadata": {},
   "source": [
    "5. What about this code—what’s the output, and why?\n",
    "\n",
    ">>> X = 'iNeuron'\n",
    ">>> def func():\n",
    "X = 'NI'\n",
    "def nested():\n",
    "print(X)\n",
    "nested()\n",
    "\n",
    ">>> func()\n",
    ">>> X"
   ]
  },
  {
   "cell_type": "raw",
   "metadata": {},
   "source": [
    "When nested() is called it will print iNeuron. When func() is called X is assigned to NI, but locally and function returns nothing. X value prints iNeuron"
   ]
  },
  {
   "cell_type": "raw",
   "metadata": {},
   "source": [
    "6. How about this code: what is its output in Python 3, and explain?\n",
    ">>> def func():\n",
    "X = 'NI'\n",
    "def nested():\n",
    "nonlocal X\n",
    "X = 'Spam'\n",
    "nested()\n",
    "print(X)\n",
    "\n",
    ">>> func()"
   ]
  },
  {
   "cell_type": "raw",
   "metadata": {},
   "source": [
    "Answer: Syntax Error will occur as there is no nonlocal x"
   ]
  }
 ],
 "metadata": {
  "kernelspec": {
   "display_name": "Python 3",
   "language": "python",
   "name": "python3"
  },
  "language_info": {
   "codemirror_mode": {
    "name": "ipython",
    "version": 3
   },
   "file_extension": ".py",
   "mimetype": "text/x-python",
   "name": "python",
   "nbconvert_exporter": "python",
   "pygments_lexer": "ipython3",
   "version": "3.8.5"
  }
 },
 "nbformat": 4,
 "nbformat_minor": 4
}
