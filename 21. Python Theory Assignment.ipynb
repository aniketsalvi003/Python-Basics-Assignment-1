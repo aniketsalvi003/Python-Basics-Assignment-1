{
 "cells": [
  {
   "cell_type": "markdown",
   "metadata": {},
   "source": [
    "# 21. Python Theory Assignment"
   ]
  },
  {
   "cell_type": "markdown",
   "metadata": {},
   "source": [
    "1. Add the current date to the text file today.txt as a string."
   ]
  },
  {
   "cell_type": "code",
   "execution_count": 2,
   "metadata": {},
   "outputs": [],
   "source": [
    "from datetime import date\n",
    "now=str(date.today())\n",
    "file = open('today.txt','w')\n",
    "file.write(now)\n",
    "file.close()"
   ]
  },
  {
   "cell_type": "markdown",
   "metadata": {},
   "source": [
    "2. Read the text file today.txt into the string today_string"
   ]
  },
  {
   "cell_type": "code",
   "execution_count": 3,
   "metadata": {},
   "outputs": [
    {
     "data": {
      "text/plain": [
       "'2021-10-12'"
      ]
     },
     "execution_count": 3,
     "metadata": {},
     "output_type": "execute_result"
    }
   ],
   "source": [
    "file = open('today.txt','r')\n",
    "today_string=file.read()\n",
    "file.close()\n",
    "today_string"
   ]
  },
  {
   "cell_type": "markdown",
   "metadata": {},
   "source": [
    "3. Parse the date from today_string."
   ]
  },
  {
   "cell_type": "code",
   "execution_count": 8,
   "metadata": {},
   "outputs": [
    {
     "data": {
      "text/plain": [
       "datetime.datetime(2021, 10, 12, 0, 0)"
      ]
     },
     "execution_count": 8,
     "metadata": {},
     "output_type": "execute_result"
    }
   ],
   "source": [
    "from datetime import datetime\n",
    "fmt = '%Y-%m-%d'\n",
    "datetime.strptime(today_string, fmt)"
   ]
  },
  {
   "cell_type": "markdown",
   "metadata": {},
   "source": [
    "4. List the files in your current directory"
   ]
  },
  {
   "cell_type": "code",
   "execution_count": 9,
   "metadata": {},
   "outputs": [
    {
     "data": {
      "text/plain": [
       "['.idea',\n",
       " '.ipynb_checkpoints',\n",
       " '1. Python Basics Assignment_1.docx',\n",
       " '1. Python Basics Assignment_1.pdf',\n",
       " '10. Python Basics Assignment_10.docx',\n",
       " '10. Python Basics Assignment_10.pdf',\n",
       " '11. Python Basics Assignment_11.docx',\n",
       " '11. Python Basics Assignment_11.pdf',\n",
       " '12.Python Basics Assignment_12.docx',\n",
       " '12.Python Basics Assignment_12.pdf',\n",
       " '13. Python Basics Assignment_13.docx',\n",
       " '13. Python Basics Assignment_13.pdf',\n",
       " '14. Python Theory Assignment .ipynb',\n",
       " '15. Python Theory Assignment.ipynb',\n",
       " '16. Python Theory Assignment.ipynb',\n",
       " '17. Python Theory Assignment.ipynb',\n",
       " '18. Python Theory Assignment.ipynb',\n",
       " '19. Python Theory Assignment.ipynb',\n",
       " '2. Python Basics Assignment_2.docx',\n",
       " '2. Python Basics Assignment_2.pdf',\n",
       " '20. Python Theory Assignment.ipynb',\n",
       " '21. Python Theory Assignment.ipynb',\n",
       " '3. Python Basics Assignment_3.docx',\n",
       " '3. Python Basics Assignment_3.pdf',\n",
       " '4. Python Basics Assignment_4.docx',\n",
       " '4. Python Basics Assignment_4.pdf',\n",
       " '5. Python Basics Assignment_5.docx',\n",
       " '5. Python Basics Assignment_5.pdf',\n",
       " '6. Python Basics Assignment 6.docx',\n",
       " '6. Python Basics Assignment_6.pdf',\n",
       " '7. Python Basics Assignment_7.docx',\n",
       " '7. Python Basics Assignment_7.pdf',\n",
       " '8. Python Basics Assignment_8.docx',\n",
       " '8. Python Basics Assignment_8.pdf',\n",
       " '9. Python Basics Assignment_9.docx',\n",
       " '9. Python Basics Assignment_9.pdf',\n",
       " 'Assignment_14.docx',\n",
       " 'Assignment_15.docx',\n",
       " 'Assignment_16.docx',\n",
       " 'Assignment_17.docx',\n",
       " 'Assignment_18.docx',\n",
       " 'Assignment_19.docx',\n",
       " 'Assignment_20.docx',\n",
       " 'Assignment_21.docx',\n",
       " 'books.csv',\n",
       " 'books.db',\n",
       " 'test1.txt',\n",
       " 'today.txt',\n",
       " 'venv',\n",
       " 'zoo.ipynb',\n",
       " 'zoo.py',\n",
       " '__pycache__',\n",
       " '~$signment_21.docx']"
      ]
     },
     "execution_count": 9,
     "metadata": {},
     "output_type": "execute_result"
    }
   ],
   "source": [
    "import os\n",
    "os.listdir('.')"
   ]
  },
  {
   "cell_type": "markdown",
   "metadata": {},
   "source": [
    "5. Create a list of all of the files in your parent directory (minimum five files should be available)."
   ]
  },
  {
   "cell_type": "code",
   "execution_count": 10,
   "metadata": {},
   "outputs": [
    {
     "data": {
      "text/plain": [
       "['.ipynb_checkpoints',\n",
       " '1 Assignment Boston House Price Prediction',\n",
       " '1.Python Basics',\n",
       " '2. Python Advanced Assignements',\n",
       " '3. Python Basic Programming',\n",
       " '4. Python Advanced Programming',\n",
       " '5. SQL',\n",
       " 'Excel',\n",
       " 'Machine Learning',\n",
       " 'Power BI',\n",
       " 'Statistics',\n",
       " 'Untitled Folder']"
      ]
     },
     "execution_count": 10,
     "metadata": {},
     "output_type": "execute_result"
    }
   ],
   "source": [
    "os.listdir('..')"
   ]
  },
  {
   "cell_type": "markdown",
   "metadata": {},
   "source": [
    "6. Use multiprocessing to create three separate processes. Make each one wait a random number of seconds between one and five, print the current time, and then exit."
   ]
  },
  {
   "cell_type": "markdown",
   "metadata": {},
   "source": [
    "7. Create a date object of your day of birth."
   ]
  },
  {
   "cell_type": "code",
   "execution_count": 11,
   "metadata": {},
   "outputs": [
    {
     "data": {
      "text/plain": [
       "datetime.date(1993, 8, 3)"
      ]
     },
     "execution_count": 11,
     "metadata": {},
     "output_type": "execute_result"
    }
   ],
   "source": [
    "birth_day = date(1993, 8, 3)\n",
    "birth_day"
   ]
  },
  {
   "cell_type": "markdown",
   "metadata": {},
   "source": [
    "8. What day of the week was your day of birth?"
   ]
  },
  {
   "cell_type": "code",
   "execution_count": 12,
   "metadata": {},
   "outputs": [
    {
     "data": {
      "text/plain": [
       "2"
      ]
     },
     "execution_count": 12,
     "metadata": {},
     "output_type": "execute_result"
    }
   ],
   "source": [
    "birth_day.isoweekday()"
   ]
  },
  {
   "cell_type": "markdown",
   "metadata": {},
   "source": [
    "9. When will you be (or when were you) 10,000 days old?"
   ]
  },
  {
   "cell_type": "code",
   "execution_count": 14,
   "metadata": {},
   "outputs": [
    {
     "data": {
      "text/plain": [
       "datetime.date(2020, 12, 19)"
      ]
     },
     "execution_count": 14,
     "metadata": {},
     "output_type": "execute_result"
    }
   ],
   "source": [
    "from datetime import timedelta\n",
    "day_1000= birth_day + timedelta(days=10000)\n",
    "day_1000"
   ]
  },
  {
   "cell_type": "code",
   "execution_count": null,
   "metadata": {},
   "outputs": [],
   "source": []
  }
 ],
 "metadata": {
  "kernelspec": {
   "display_name": "Python 3",
   "language": "python",
   "name": "python3"
  },
  "language_info": {
   "codemirror_mode": {
    "name": "ipython",
    "version": 3
   },
   "file_extension": ".py",
   "mimetype": "text/x-python",
   "name": "python",
   "nbconvert_exporter": "python",
   "pygments_lexer": "ipython3",
   "version": "3.8.5"
  }
 },
 "nbformat": 4,
 "nbformat_minor": 4
}
