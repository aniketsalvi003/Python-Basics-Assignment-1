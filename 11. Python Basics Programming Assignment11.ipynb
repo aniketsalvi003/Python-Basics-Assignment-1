{
 "cells": [
  {
   "cell_type": "markdown",
   "metadata": {},
   "source": [
    "# Python Basics Programming Assignment 11"
   ]
  },
  {
   "cell_type": "markdown",
   "metadata": {},
   "source": [
    "### Q1.\tWrite a Python program to find words which are greater than given length k?"
   ]
  },
  {
   "cell_type": "code",
   "execution_count": 8,
   "metadata": {},
   "outputs": [
    {
     "name": "stdout",
     "output_type": "stream",
     "text": [
      "Enter string of your choicePython is important\n",
      "Enter minimum  length to cross check 3\n",
      "Words with length greater than 3  ['Python', 'important']\n"
     ]
    }
   ],
   "source": [
    "#Take String input from user\n",
    "string_input=input(\"Enter string of your choice\")\n",
    "\n",
    "while True:\n",
    "    try:\n",
    "        length=int(input(\"Enter minimum  length to cross check \"))\n",
    "        if length<=0:\n",
    "            print(\"Enter a positive number\")\n",
    "            continue\n",
    "        else:\n",
    "            break\n",
    "    except Exception as e:\n",
    "        print(\"Error Occured\",e)\n",
    "        \n",
    "list_string=string_input.split()\n",
    "\n",
    "final_list=[]\n",
    "\n",
    "for word in list_string:\n",
    "    if len(word)>length:\n",
    "        final_list.append(word)\n",
    "        \n",
    "if len(final_list)==0:\n",
    "    print(\"No word in string is greater than {}\".format(length))\n",
    "else:\n",
    "    print(\"Words with length greater than {} \".format(length), final_list)"
   ]
  },
  {
   "cell_type": "markdown",
   "metadata": {},
   "source": [
    "### Q2.\tWrite a Python program for removing i-th character from a string?"
   ]
  },
  {
   "cell_type": "code",
   "execution_count": 12,
   "metadata": {},
   "outputs": [
    {
     "name": "stdout",
     "output_type": "stream",
     "text": [
      "Enter string of your choicePython is a important\n",
      "Enter place number of character which you want to remove 9\n",
      "String after removing 9th character : Python is  important\n"
     ]
    }
   ],
   "source": [
    "#Take String input from user\n",
    "string_input=input(\"Enter string of your choice\")\n",
    "\n",
    "while True:\n",
    "    try:\n",
    "        i=int(input(\"Enter place number of character which you want to remove \"))\n",
    "        if length<=0:\n",
    "            print(\"Enter a positive number\")\n",
    "            continue\n",
    "        else:\n",
    "            break\n",
    "    except Exception as e:\n",
    "        print(\"Error Occured\",e)\n",
    "        \n",
    "string1=string_input[:i+1] #cosidering user inputs count starting from 1 and not 0\n",
    "string2=string_input[i+2:]\n",
    "\n",
    "print(\"String after removing {}th character :\".format(i), string1+string2)"
   ]
  },
  {
   "cell_type": "markdown",
   "metadata": {},
   "source": [
    "### Q3.\tWrite a Python program to split and join a string?"
   ]
  },
  {
   "cell_type": "code",
   "execution_count": 13,
   "metadata": {},
   "outputs": [
    {
     "name": "stdout",
     "output_type": "stream",
     "text": [
      "Enter string of your choicePython is important\n",
      "String after spliting : ['Python', 'is', 'important']\n",
      "String after joining : Python is important\n"
     ]
    }
   ],
   "source": [
    "string_input=input(\"Enter string of your choice\")\n",
    "\n",
    "split_string=string_input.split()\n",
    "print('String after spliting :', split_string)\n",
    "\n",
    "join_string=\" \".join(split_string)\n",
    "print(\"String after joining :\", join_string)"
   ]
  },
  {
   "cell_type": "markdown",
   "metadata": {},
   "source": [
    "### Q4.\tWrite a Python to check if a given string is binary string or not?"
   ]
  },
  {
   "cell_type": "code",
   "execution_count": 16,
   "metadata": {},
   "outputs": [
    {
     "name": "stdout",
     "output_type": "stream",
     "text": [
      "Enter a string to check is binary or not100100011\n",
      "String is a Binary String\n"
     ]
    }
   ],
   "source": [
    "#Take binary string input from user\n",
    "b_string=input(\"Enter a string to check is binary or not\")\n",
    "\n",
    "p=set(b_string)\n",
    "s={'0','1'}\n",
    "\n",
    "if s == p or p == {'0'} or p == {'1'}:\n",
    "    print(\"String is a Binary String\")\n",
    "else :\n",
    "    print(\"String is not a Binary String\")"
   ]
  },
  {
   "cell_type": "markdown",
   "metadata": {},
   "source": [
    "### Q5.\tWrite a Python program to find uncommon words from two Strings?"
   ]
  },
  {
   "cell_type": "code",
   "execution_count": 22,
   "metadata": {},
   "outputs": [
    {
     "name": "stdout",
     "output_type": "stream",
     "text": [
      "Enter your first stringPython is important\n",
      "Enter your second stringPython is important for OOP\n",
      "['for', 'oop']\n"
     ]
    }
   ],
   "source": [
    "#Take string inputs from user\n",
    "string1=input(\"Enter your first string\")\n",
    "string2=input(\"Enter your second string\")\n",
    "\n",
    "n1=len(string1)\n",
    "list1=string1.lower().split()\n",
    "list2=string2.lower().split()\n",
    "\n",
    "n1=len(list1)\n",
    "n2=len(list2)\n",
    "uncommon=[]\n",
    "\n",
    "if n1>n2:\n",
    "    for word in list1:\n",
    "        if word not in list2:\n",
    "            uncommon.append(word)\n",
    "            \n",
    "else :\n",
    "    for word in list2:\n",
    "        if word not in list1:\n",
    "            uncommon.append(word)\n",
    "        \n",
    "print(uncommon)"
   ]
  },
  {
   "cell_type": "markdown",
   "metadata": {},
   "source": [
    "### Q6.\tWrite a Python to find all duplicate characters in string?"
   ]
  },
  {
   "cell_type": "code",
   "execution_count": 25,
   "metadata": {},
   "outputs": [
    {
     "name": "stdout",
     "output_type": "stream",
     "text": [
      "Enter a string of your choicePython is important\n",
      "Duplicate Characters : ['t', 'o', 'n', 'i']\n"
     ]
    }
   ],
   "source": [
    "#Take string input from user\n",
    "\n",
    "string1=input(\"Enter a string of your choice\")\n",
    "\n",
    "duplicate=[]\n",
    "\n",
    "for i in string1:\n",
    "    if string1.count(i)>1:\n",
    "        if i not in duplicate:\n",
    "            duplicate.append(i)\n",
    "duplicate.remove(\" \") \n",
    "\n",
    "if len(duplicate)==0:\n",
    "    print(\"No duplicate characters in string\")\n",
    "else:\n",
    "    print(\"Duplicate Characters :\", duplicate)"
   ]
  },
  {
   "cell_type": "markdown",
   "metadata": {},
   "source": [
    "### Q7.\tWrite a Python Program to check if a string contains any special character? "
   ]
  },
  {
   "cell_type": "code",
   "execution_count": 33,
   "metadata": {},
   "outputs": [
    {
     "name": "stdout",
     "output_type": "stream",
     "text": [
      "Enter a string of your choice!@#% ns 456 ((^\n",
      "Special character in string are : ['!', '@', '#', '%', ' ', '(', '(', '^']\n"
     ]
    }
   ],
   "source": [
    "#Take string input from user\n",
    "\n",
    "string1=input(\"Enter a string of your choice\")\n",
    "\n",
    "special=[]\n",
    "\n",
    "for i in string1:\n",
    "    if i.isalnum()==False:\n",
    "        special.append(i)\n",
    "\n",
    "for i in special:\n",
    "    if i==\" \":\n",
    "        special.remove(i)\n",
    "\n",
    "if len(special)==0:\n",
    "    print(\"No special characters in string\")\n",
    "else:\n",
    "    print(\"Special character in string are :\", special)"
   ]
  },
  {
   "cell_type": "code",
   "execution_count": null,
   "metadata": {},
   "outputs": [],
   "source": []
  }
 ],
 "metadata": {
  "kernelspec": {
   "display_name": "Python 3",
   "language": "python",
   "name": "python3"
  },
  "language_info": {
   "codemirror_mode": {
    "name": "ipython",
    "version": 3
   },
   "file_extension": ".py",
   "mimetype": "text/x-python",
   "name": "python",
   "nbconvert_exporter": "python",
   "pygments_lexer": "ipython3",
   "version": "3.8.5"
  }
 },
 "nbformat": 4,
 "nbformat_minor": 4
}
